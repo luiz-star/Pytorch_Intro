{
  "nbformat": 4,
  "nbformat_minor": 0,
  "metadata": {
    "kernelspec": {
      "display_name": "Python 3",
      "language": "python",
      "name": "python3"
    },
    "language_info": {
      "codemirror_mode": {
        "name": "ipython",
        "version": 3
      },
      "file_extension": ".py",
      "mimetype": "text/x-python",
      "name": "python",
      "nbconvert_exporter": "python",
      "pygments_lexer": "ipython3",
      "version": "3.7.6"
    },
    "colab": {
      "name": "PyTorch_Intro.ipynb",
      "provenance": [],
      "collapsed_sections": [],
      "include_colab_link": true
    }
  },
  "cells": [
    {
      "cell_type": "markdown",
      "metadata": {
        "id": "view-in-github",
        "colab_type": "text"
      },
      "source": [
        "<a href=\"https://colab.research.google.com/github/luiz-star/Pytorch_Intro/blob/main/PyTorch_Intro.ipynb\" target=\"_parent\"><img src=\"https://colab.research.google.com/assets/colab-badge.svg\" alt=\"Open In Colab\"/></a>"
      ]
    },
    {
      "cell_type": "markdown",
      "metadata": {
        "id": "CasP1NhUyd2f"
      },
      "source": [
        "# <font color='blue'>Data Science Academy - Machine Learning</font>\n",
        "\n",
        "# <font color='blue'>Capítulo 12 - Processamento de Linguagem Natural</font>"
      ]
    },
    {
      "cell_type": "code",
      "metadata": {
        "colab": {
          "base_uri": "https://localhost:8080/"
        },
        "id": "rW-HBRHkyd2o",
        "outputId": "ace7c65c-1f86-488a-a418-44dd3f8111c3"
      },
      "source": [
        "# Versão da Linguagem Python\n",
        "from platform import python_version\n",
        "print('Versão da Linguagem Python Usada Neste Jupyter Notebook:', python_version())"
      ],
      "execution_count": 1,
      "outputs": [
        {
          "output_type": "stream",
          "name": "stdout",
          "text": [
            "Versão da Linguagem Python Usada Neste Jupyter Notebook: 3.7.11\n"
          ]
        }
      ]
    },
    {
      "cell_type": "markdown",
      "metadata": {
        "id": "47Un8ngeyd2r"
      },
      "source": [
        "Obs: Este é um material de bônus incluído neste curso. PyTorch é estudado em detalhes no curso <a href=\"https://www.datascienceacademy.com.br/course?courseid=deep-learning-frameworks\">Deep Learning Frameworks</a> e aplicado em PLN no curso <a href=\"https://www.datascienceacademy.com.br/course?courseid=processamento-de-linguagem-natural-e-reconhecimento-de-voz\">Processamento de Linguagem Natural</a>."
      ]
    },
    {
      "cell_type": "markdown",
      "metadata": {
        "id": "7ncqnu_Nyd2s"
      },
      "source": [
        "## Introdução ao Framework PyTorch"
      ]
    },
    {
      "cell_type": "markdown",
      "metadata": {
        "id": "zZhzzjrVyd2s"
      },
      "source": [
        "A computação em modelos de Deep Learning é feita com tensores, que são generalizações de uma matriz que pode ser indexada em mais de duas dimensões. O PyTorch é um framework que aplica operações matemáticas a tensores para então treinar modelos de Deep Learning."
      ]
    },
    {
      "cell_type": "markdown",
      "metadata": {
        "id": "R8lq7uhByd2t"
      },
      "source": [
        "https://pytorch.org/"
      ]
    },
    {
      "cell_type": "markdown",
      "metadata": {
        "id": "aszYAYVAyd2u"
      },
      "source": [
        "**TorchScript**\n",
        "\n",
        "O PyTorch TorchScript ajuda a criar modelos serializáveis e otimizáveis. Depois que treinamos esses modelos, eles também podem ser executados independentemente. Isso ajuda quando estamos no estágio de implantação do modelo de um projeto de Data Science.\n",
        "\n",
        "Você pode treinar um modelo no PyTorch usando Python e depois exportá-lo via TorchScript para um ambiente de produção em que Python não esteja disponível. \n",
        "\n",
        "**Treinamento Distribuído**\n",
        "\n",
        "O PyTorch também oferece suporte a treinamento distribuído que permite que pesquisadores e profissionais paralelizem seus cálculos. O treinamento distribuído possibilita o uso de várias GPUs para processar lotes maiores de dados de entrada. Isso, por sua vez, reduz o tempo de computação.\n",
        "\n",
        "**Suporte para Python**\n",
        "\n",
        "O PyTorch tem uma interação muito boa com o Python. De fato, a codificação no PyTorch é bastante semelhante ao que fazemos em Python. Portanto, se você se sentir confortável com o Python, vai adorar trabalhar com o PyTorch."
      ]
    },
    {
      "cell_type": "markdown",
      "metadata": {
        "id": "1Vo99uICyd2w"
      },
      "source": [
        "### O Que São Tensores?\n",
        "\n",
        " ![title](imagens/tensores.png)"
      ]
    },
    {
      "cell_type": "code",
      "metadata": {
        "id": "Rx73EoV2yd2y"
      },
      "source": [
        "# Para atualizar um pacote, execute o comando abaixo no terminal ou prompt de comando:\n",
        "# pip install -U nome_pacote\n",
        "\n",
        "# Para instalar a versão exata de um pacote, execute o comando abaixo no terminal ou prompt de comando:\n",
        "# !pip install torch==1.5.0\n",
        "\n",
        "# Depois de instalar ou atualizar o pacote, reinicie o jupyter notebook.\n",
        "\n"
      ],
      "execution_count": 2,
      "outputs": []
    },
    {
      "cell_type": "code",
      "metadata": {
        "id": "MJsSHcr6yd2z"
      },
      "source": [
        "# Instala o PyTorch\n",
        "!pip install -q -U torch torchvision"
      ],
      "execution_count": 3,
      "outputs": []
    },
    {
      "cell_type": "code",
      "metadata": {
        "id": "9I5D4IBsyd20"
      },
      "source": [
        "# Imports\n",
        "import numpy \n",
        "import torch\n",
        "import torchvision"
      ],
      "execution_count": 4,
      "outputs": []
    },
    {
      "cell_type": "markdown",
      "metadata": {
        "id": "CzHITYazyd21"
      },
      "source": [
        "### Criando e Manipulando Tensores"
      ]
    },
    {
      "cell_type": "markdown",
      "metadata": {
        "id": "7sqETl2gyd22"
      },
      "source": [
        "A razão pela qual usamos o Numpy em Machine Learning é que é muito mais rápido do que as listas Python na execução de operações de matriz. \n",
        "\n",
        "Por quê? Internamente, NumPy faz a maior parte do trabalho pesado em Linguagem C, que é muito mais veloz que Python. \n",
        "\n",
        "Mas, no caso de treinar redes neurais profundas (<a href=\"http://www.deeplearningbook.com.br/\">Deep Learning</a>), os arrays NumPy levariam meses para treinar algumas das redes de ponta. É aqui que os tensores entram em cena. O PyTorch nos fornece uma estrutura de dados chamada Tensor, que é muito semelhante à matriz ND do NumPy. Mas, diferentemente do último, os tensores podem aproveitar os recursos de uma GPU para acelerar significativamente as operações com matrizes."
      ]
    },
    {
      "cell_type": "code",
      "metadata": {
        "id": "60gosR8byd22"
      },
      "source": [
        "# Criando um tensor\n",
        "x = torch.tensor([1., 2.])"
      ],
      "execution_count": 6,
      "outputs": []
    },
    {
      "cell_type": "code",
      "metadata": {
        "colab": {
          "base_uri": "https://localhost:8080/"
        },
        "id": "FcpuSq_cyd23",
        "outputId": "1387bb0c-8f38-4bb9-bf34-710c77cdf18e"
      },
      "source": [
        "# Visualiza o tensor\n",
        "print(x)"
      ],
      "execution_count": 7,
      "outputs": [
        {
          "output_type": "stream",
          "name": "stdout",
          "text": [
            "tensor([1., 2.])\n"
          ]
        }
      ]
    },
    {
      "cell_type": "code",
      "metadata": {
        "colab": {
          "base_uri": "https://localhost:8080/"
        },
        "id": "hkLUTp8kyd23",
        "outputId": "d1600d03-5357-4845-a629-279f57281dc0"
      },
      "source": [
        "# Shape\n",
        "print(x.shape)"
      ],
      "execution_count": 8,
      "outputs": [
        {
          "output_type": "stream",
          "name": "stdout",
          "text": [
            "torch.Size([2])\n"
          ]
        }
      ]
    },
    {
      "cell_type": "code",
      "metadata": {
        "id": "GgY6uq0Gyd23"
      },
      "source": [
        "# Criando um tensor\n",
        "t = torch.tensor([[1,1,1,1],\n",
        "                  [2,2,2,2],\n",
        "                  [3,3,3,3]], dtype = torch.float32)"
      ],
      "execution_count": 9,
      "outputs": []
    },
    {
      "cell_type": "markdown",
      "metadata": {
        "id": "-uC1JQbKyd24"
      },
      "source": [
        "Para determinar a forma desse tensor, examinamos primeiro as linhas (3) e depois as colunas (4). Portanto, esse tensor é 3 x 4 de classificação (rank) 2. \n",
        "\n",
        "Rank é uma palavra comumente usada e significa apenas o número de dimensões presentes no tensor.\n",
        "\n",
        "No PyTorch, temos duas maneiras de obter a forma (shape):"
      ]
    },
    {
      "cell_type": "code",
      "metadata": {
        "colab": {
          "base_uri": "https://localhost:8080/"
        },
        "id": "ncnP2hjdyd24",
        "outputId": "55dc6105-3d26-4391-8798-c0f0ee97026b"
      },
      "source": [
        "t.size()"
      ],
      "execution_count": 10,
      "outputs": [
        {
          "output_type": "execute_result",
          "data": {
            "text/plain": [
              "torch.Size([3, 4])"
            ]
          },
          "metadata": {},
          "execution_count": 10
        }
      ]
    },
    {
      "cell_type": "code",
      "metadata": {
        "colab": {
          "base_uri": "https://localhost:8080/"
        },
        "id": "ICkq_nIryd25",
        "outputId": "9b69e783-65d2-4ac6-ebf0-2ad749e5f8f3"
      },
      "source": [
        "t.shape"
      ],
      "execution_count": 11,
      "outputs": [
        {
          "output_type": "execute_result",
          "data": {
            "text/plain": [
              "torch.Size([3, 4])"
            ]
          },
          "metadata": {},
          "execution_count": 11
        }
      ]
    },
    {
      "cell_type": "markdown",
      "metadata": {
        "id": "SqkxQqlkyd25"
      },
      "source": [
        "No PyTorch, o tamanho e a forma de um tensor significam a mesma coisa.\n",
        "\n",
        "Normalmente, depois de conhecermos a forma de um tensor, podemos deduzir algumas coisas. Primeiro, podemos deduzir o rank do tensor. O rank de um tensor é igual ao comprimento da forma do tensor."
      ]
    },
    {
      "cell_type": "code",
      "metadata": {
        "colab": {
          "base_uri": "https://localhost:8080/"
        },
        "id": "qjs-FAq8yd25",
        "outputId": "64474664-5912-43ea-b1ed-fe817f55f5f8"
      },
      "source": [
        "len(t.shape)"
      ],
      "execution_count": 12,
      "outputs": [
        {
          "output_type": "execute_result",
          "data": {
            "text/plain": [
              "2"
            ]
          },
          "metadata": {},
          "execution_count": 12
        }
      ]
    },
    {
      "cell_type": "code",
      "metadata": {
        "colab": {
          "base_uri": "https://localhost:8080/"
        },
        "id": "YEdi6hb2yd26",
        "outputId": "974c1d77-b281-493d-f9e8-17c471847ab3"
      },
      "source": [
        "len(x.shape)"
      ],
      "execution_count": 13,
      "outputs": [
        {
          "output_type": "execute_result",
          "data": {
            "text/plain": [
              "1"
            ]
          },
          "metadata": {},
          "execution_count": 13
        }
      ]
    },
    {
      "cell_type": "markdown",
      "metadata": {
        "id": "rKR5HAokyd26"
      },
      "source": [
        "Também podemos deduzir o número de elementos contidos no tensor. O número de elementos dentro de um tensor (12 no nosso caso do tensor t e 2 no tensor x) é igual ao produto dos valores dos componentes da forma."
      ]
    },
    {
      "cell_type": "code",
      "metadata": {
        "colab": {
          "base_uri": "https://localhost:8080/"
        },
        "id": "abf-KZi8yd26",
        "outputId": "f45d4a79-360f-42b3-f38d-9bf02efa0481"
      },
      "source": [
        "torch.tensor(t.shape).prod()"
      ],
      "execution_count": 14,
      "outputs": [
        {
          "output_type": "execute_result",
          "data": {
            "text/plain": [
              "tensor(12)"
            ]
          },
          "metadata": {},
          "execution_count": 14
        }
      ]
    },
    {
      "cell_type": "code",
      "metadata": {
        "colab": {
          "base_uri": "https://localhost:8080/"
        },
        "id": "NWJvpE19yd27",
        "outputId": "24139ac4-dfe5-4c26-a05a-585f412f407b"
      },
      "source": [
        "torch.tensor(x.shape).prod()"
      ],
      "execution_count": 15,
      "outputs": [
        {
          "output_type": "execute_result",
          "data": {
            "text/plain": [
              "tensor(2)"
            ]
          },
          "metadata": {},
          "execution_count": 15
        }
      ]
    },
    {
      "cell_type": "code",
      "metadata": {
        "id": "ptTxYQ0Ryd27"
      },
      "source": [
        "# Retornando um elemento de um tensor\n",
        "z = torch.tensor([[1., 2.],[5., 3.],[0., 4.]])"
      ],
      "execution_count": 16,
      "outputs": []
    },
    {
      "cell_type": "code",
      "metadata": {
        "colab": {
          "base_uri": "https://localhost:8080/"
        },
        "id": "ITjKgxkfyd27",
        "outputId": "72e46396-4490-481c-b0dd-3acc2a667384"
      },
      "source": [
        "print(z)"
      ],
      "execution_count": 17,
      "outputs": [
        {
          "output_type": "stream",
          "name": "stdout",
          "text": [
            "tensor([[1., 2.],\n",
            "        [5., 3.],\n",
            "        [0., 4.]])\n"
          ]
        }
      ]
    },
    {
      "cell_type": "code",
      "metadata": {
        "colab": {
          "base_uri": "https://localhost:8080/"
        },
        "id": "6wWkF-s4yd28",
        "outputId": "039b6f44-8189-4c97-dd43-f7f6fd4a1eeb"
      },
      "source": [
        "# Shape\n",
        "print(z.shape)"
      ],
      "execution_count": 18,
      "outputs": [
        {
          "output_type": "stream",
          "name": "stdout",
          "text": [
            "torch.Size([3, 2])\n"
          ]
        }
      ]
    },
    {
      "cell_type": "code",
      "metadata": {
        "colab": {
          "base_uri": "https://localhost:8080/"
        },
        "id": "6jCBvOAwyd28",
        "outputId": "2102e6eb-e470-454a-e370-499f0d4a2a9c"
      },
      "source": [
        "# Retornamos a primeira linha (índice 0) e segunda coluna (índice 1)\n",
        "# O retorno é no formato de tensor\n",
        "print(z[0][1])"
      ],
      "execution_count": 19,
      "outputs": [
        {
          "output_type": "stream",
          "name": "stdout",
          "text": [
            "tensor(2.)\n"
          ]
        }
      ]
    },
    {
      "cell_type": "code",
      "metadata": {
        "colab": {
          "base_uri": "https://localhost:8080/"
        },
        "id": "P1Uz2LuQyd28",
        "outputId": "49206fe9-ed92-48b4-9719-70c8720e03c9"
      },
      "source": [
        "# Retornamos a primeira linha (índice 0) e segunda coluna (índice 1)\n",
        "# O retorno é no formato de escalar (apenas o valor)\n",
        "print(z[0][1].item())"
      ],
      "execution_count": 20,
      "outputs": [
        {
          "output_type": "stream",
          "name": "stdout",
          "text": [
            "2.0\n"
          ]
        }
      ]
    },
    {
      "cell_type": "markdown",
      "metadata": {
        "id": "qCMGKu9Xyd29"
      },
      "source": [
        "Quando criamos tensores com valores randômicos, passamos apenas o número de dimensões."
      ]
    },
    {
      "cell_type": "code",
      "metadata": {
        "id": "774JauQgyd29"
      },
      "source": [
        "input1 = torch.randn([1, 4, 4, 2])"
      ],
      "execution_count": 21,
      "outputs": []
    },
    {
      "cell_type": "code",
      "metadata": {
        "id": "r3eL2g4Tyd3D"
      },
      "source": [
        "input2 = torch.randn(1, 4, 4, 2)"
      ],
      "execution_count": 22,
      "outputs": []
    },
    {
      "cell_type": "code",
      "metadata": {
        "colab": {
          "base_uri": "https://localhost:8080/"
        },
        "id": "RlpVjqB5yd3D",
        "outputId": "0d328e5b-4cf0-4bff-ac1f-277a4ebb347f"
      },
      "source": [
        "input1.shape"
      ],
      "execution_count": 23,
      "outputs": [
        {
          "output_type": "execute_result",
          "data": {
            "text/plain": [
              "torch.Size([1, 4, 4, 2])"
            ]
          },
          "metadata": {},
          "execution_count": 23
        }
      ]
    },
    {
      "cell_type": "code",
      "metadata": {
        "colab": {
          "base_uri": "https://localhost:8080/"
        },
        "id": "hdpCWuonyd3E",
        "outputId": "622bde3a-47af-4506-c6e3-3858aedd3af2"
      },
      "source": [
        "input2.shape"
      ],
      "execution_count": 24,
      "outputs": [
        {
          "output_type": "execute_result",
          "data": {
            "text/plain": [
              "torch.Size([1, 4, 4, 2])"
            ]
          },
          "metadata": {},
          "execution_count": 24
        }
      ]
    },
    {
      "cell_type": "code",
      "metadata": {
        "colab": {
          "base_uri": "https://localhost:8080/"
        },
        "id": "OL2ynWYzyd3E",
        "outputId": "b4577f15-3cd2-42ca-f469-88afead04ee5"
      },
      "source": [
        "len(input1.shape)"
      ],
      "execution_count": 25,
      "outputs": [
        {
          "output_type": "execute_result",
          "data": {
            "text/plain": [
              "4"
            ]
          },
          "metadata": {},
          "execution_count": 25
        }
      ]
    },
    {
      "cell_type": "code",
      "metadata": {
        "colab": {
          "base_uri": "https://localhost:8080/"
        },
        "id": "AcEH6Nxnyd3E",
        "outputId": "0447e6fd-d721-4e06-836f-c3aeecefda2e"
      },
      "source": [
        "len(input2.shape)"
      ],
      "execution_count": 26,
      "outputs": [
        {
          "output_type": "execute_result",
          "data": {
            "text/plain": [
              "4"
            ]
          },
          "metadata": {},
          "execution_count": 26
        }
      ]
    },
    {
      "cell_type": "code",
      "metadata": {
        "colab": {
          "base_uri": "https://localhost:8080/"
        },
        "id": "_1zgP58Byd3E",
        "outputId": "9d61922c-2741-4904-b921-80144cdcd679"
      },
      "source": [
        "input1"
      ],
      "execution_count": 27,
      "outputs": [
        {
          "output_type": "execute_result",
          "data": {
            "text/plain": [
              "tensor([[[[ 0.8312,  0.3366],\n",
              "          [ 1.6673,  0.3719],\n",
              "          [ 0.3668, -0.0580],\n",
              "          [-0.7300,  0.4213]],\n",
              "\n",
              "         [[-0.4536, -0.1334],\n",
              "          [ 0.6985, -1.1923],\n",
              "          [-0.0543, -1.4204],\n",
              "          [-1.0846, -0.7310]],\n",
              "\n",
              "         [[ 1.0715,  0.1827],\n",
              "          [ 1.0669, -0.3929],\n",
              "          [ 0.1196, -0.3483],\n",
              "          [ 1.8984,  0.6038]],\n",
              "\n",
              "         [[ 1.2936,  1.2364],\n",
              "          [ 0.6262, -0.3683],\n",
              "          [ 1.8082, -0.1897],\n",
              "          [ 0.2651, -0.8888]]]])"
            ]
          },
          "metadata": {},
          "execution_count": 27
        }
      ]
    },
    {
      "cell_type": "code",
      "metadata": {
        "colab": {
          "base_uri": "https://localhost:8080/"
        },
        "id": "bEfByiO_yd3F",
        "outputId": "c14ee685-b9b6-47d8-9803-aef21f1a6ce1"
      },
      "source": [
        "input2"
      ],
      "execution_count": 28,
      "outputs": [
        {
          "output_type": "execute_result",
          "data": {
            "text/plain": [
              "tensor([[[[ 0.4583, -1.9178],\n",
              "          [-0.5724,  1.5537],\n",
              "          [-0.5516, -0.1294],\n",
              "          [ 2.0770, -1.3220]],\n",
              "\n",
              "         [[ 0.4590, -0.9217],\n",
              "          [ 2.0872, -0.3730],\n",
              "          [ 0.7348, -2.3817],\n",
              "          [ 0.6585, -0.0371]],\n",
              "\n",
              "         [[-1.1078, -0.9198],\n",
              "          [-1.7025,  0.1020],\n",
              "          [ 0.2900, -0.3655],\n",
              "          [-0.7387, -1.5061]],\n",
              "\n",
              "         [[-0.0299, -0.6732],\n",
              "          [ 1.5213,  0.0171],\n",
              "          [-0.3180,  1.1768],\n",
              "          [-0.4529,  0.4619]]]])"
            ]
          },
          "metadata": {},
          "execution_count": 28
        }
      ]
    },
    {
      "cell_type": "markdown",
      "metadata": {
        "id": "490QGiupyd3F"
      },
      "source": [
        "Considere tensores como o número de listas que uma dimensão contém. Por exemplo, um tensor (1, 4, 4, 2) terá:\n",
        "\n",
        "1 lista contendo 4 elementos de 4 elementos de 2 elementos.\n",
        "\n",
        "- A primeira dimensão pode conter 1 elemento.\n",
        "- A segunda dimensão pode conter 4 elementos.\n",
        "- A terceira dimensão pode conter 4 elementos.\n",
        "- A quarta dimensão pode conter 2 elementos.\n",
        "\n",
        "![title](imagens/tensor.jpg)"
      ]
    },
    {
      "cell_type": "markdown",
      "metadata": {
        "id": "S2qcls1Kyd3F"
      },
      "source": [
        "### Array NumPy x Tensor PyTorch"
      ]
    },
    {
      "cell_type": "code",
      "metadata": {
        "id": "orlaf8Kqyd3F"
      },
      "source": [
        "# Cria um array NumPy\n",
        "a = numpy.array(1)\n",
        "\n",
        "# Cria um tensor PyTorch\n",
        "b = torch.tensor(1)"
      ],
      "execution_count": 29,
      "outputs": []
    },
    {
      "cell_type": "code",
      "metadata": {
        "colab": {
          "base_uri": "https://localhost:8080/"
        },
        "id": "7qHvyeZjyd3F",
        "outputId": "f06f2bc4-d020-4fd6-b1da-bcb44188bdcf"
      },
      "source": [
        "# Tipo\n",
        "type(a)"
      ],
      "execution_count": 30,
      "outputs": [
        {
          "output_type": "execute_result",
          "data": {
            "text/plain": [
              "numpy.ndarray"
            ]
          },
          "metadata": {},
          "execution_count": 30
        }
      ]
    },
    {
      "cell_type": "code",
      "metadata": {
        "colab": {
          "base_uri": "https://localhost:8080/"
        },
        "id": "gvE8Iwv8yd3G",
        "outputId": "a04d4c25-4d1d-486e-daf2-1ae94f54d692"
      },
      "source": [
        "# Tipo\n",
        "type(b)"
      ],
      "execution_count": 31,
      "outputs": [
        {
          "output_type": "execute_result",
          "data": {
            "text/plain": [
              "torch.Tensor"
            ]
          },
          "metadata": {},
          "execution_count": 31
        }
      ]
    },
    {
      "cell_type": "code",
      "metadata": {
        "colab": {
          "base_uri": "https://localhost:8080/"
        },
        "id": "ESYBCmc_yd3G",
        "outputId": "de49cce9-1b91-49c9-cac1-d2df7846fbe0"
      },
      "source": [
        "# Print\n",
        "print(a)\n",
        "print(b)"
      ],
      "execution_count": 32,
      "outputs": [
        {
          "output_type": "stream",
          "name": "stdout",
          "text": [
            "1\n",
            "tensor(1)\n"
          ]
        }
      ]
    },
    {
      "cell_type": "markdown",
      "metadata": {
        "id": "4fI_6zhHyd3G"
      },
      "source": [
        "### Operações com Tensores"
      ]
    },
    {
      "cell_type": "code",
      "metadata": {
        "colab": {
          "base_uri": "https://localhost:8080/"
        },
        "id": "6ZrGa9Ddyd3G",
        "outputId": "c533a837-74ef-4887-dd26-203a0738db49"
      },
      "source": [
        "# Criamos 2 tensores\n",
        "t1 = torch.tensor(12)\n",
        "t2 = torch.tensor(4)\n",
        "print(t1, t2)"
      ],
      "execution_count": 33,
      "outputs": [
        {
          "output_type": "stream",
          "name": "stdout",
          "text": [
            "tensor(12) tensor(4)\n"
          ]
        }
      ]
    },
    {
      "cell_type": "code",
      "metadata": {
        "colab": {
          "base_uri": "https://localhost:8080/"
        },
        "id": "Z6TxSbUTyd3H",
        "outputId": "ecbe2e82-ad69-4b05-94b8-37910088f44f"
      },
      "source": [
        "# Soma\n",
        "print(t1 + t2)"
      ],
      "execution_count": 34,
      "outputs": [
        {
          "output_type": "stream",
          "name": "stdout",
          "text": [
            "tensor(16)\n"
          ]
        }
      ]
    },
    {
      "cell_type": "code",
      "metadata": {
        "colab": {
          "base_uri": "https://localhost:8080/"
        },
        "id": "PyAGGmZ9yd3H",
        "outputId": "011dbfab-d18c-4dff-a89f-e3af8ba71131"
      },
      "source": [
        "# Subtração\n",
        "print(t1 - t2)"
      ],
      "execution_count": 35,
      "outputs": [
        {
          "output_type": "stream",
          "name": "stdout",
          "text": [
            "tensor(8)\n"
          ]
        }
      ]
    },
    {
      "cell_type": "code",
      "metadata": {
        "colab": {
          "base_uri": "https://localhost:8080/"
        },
        "id": "edh_NCRvyd3H",
        "outputId": "fc67426f-d369-42a1-8a0e-e914e58f1c14"
      },
      "source": [
        "# Multiplicação\n",
        "print(t1 * t2)"
      ],
      "execution_count": 36,
      "outputs": [
        {
          "output_type": "stream",
          "name": "stdout",
          "text": [
            "tensor(48)\n"
          ]
        }
      ]
    },
    {
      "cell_type": "code",
      "metadata": {
        "colab": {
          "base_uri": "https://localhost:8080/"
        },
        "id": "GJTQK-NIyd3I",
        "outputId": "46cd3898-0585-4faf-fe0c-6fa71958b35e"
      },
      "source": [
        "# Divisão\n",
        "print(t1 // t2)"
      ],
      "execution_count": 37,
      "outputs": [
        {
          "output_type": "stream",
          "name": "stdout",
          "text": [
            "tensor(3)\n"
          ]
        },
        {
          "output_type": "stream",
          "name": "stderr",
          "text": [
            "/usr/local/lib/python3.7/dist-packages/torch/_tensor.py:575: UserWarning: floor_divide is deprecated, and will be removed in a future version of pytorch. It currently rounds toward 0 (like the 'trunc' function NOT 'floor'). This results in incorrect rounding for negative values.\n",
            "To keep the current behavior, use torch.div(a, b, rounding_mode='trunc'), or for actual floor division, use torch.div(a, b, rounding_mode='floor'). (Triggered internally at  /pytorch/aten/src/ATen/native/BinaryOps.cpp:467.)\n",
            "  return torch.floor_divide(self, other)\n"
          ]
        }
      ]
    },
    {
      "cell_type": "markdown",
      "metadata": {
        "id": "eaL-gEW6yd3I"
      },
      "source": [
        "### Operações com Matrizes"
      ]
    },
    {
      "cell_type": "code",
      "metadata": {
        "colab": {
          "base_uri": "https://localhost:8080/"
        },
        "id": "4gfT0Ll4yd3I",
        "outputId": "b1509e1c-26cf-4b3c-9638-ce5d8f324476"
      },
      "source": [
        "# Matriz (tensor rank 2) de números randômicos\n",
        "t_rank2 = torch.randn(3,3)\n",
        "t_rank2"
      ],
      "execution_count": 38,
      "outputs": [
        {
          "output_type": "execute_result",
          "data": {
            "text/plain": [
              "tensor([[ 1.1908,  1.0876,  1.3318],\n",
              "        [-1.9275, -0.7343, -0.7807],\n",
              "        [ 0.2740,  0.6415, -0.4441]])"
            ]
          },
          "metadata": {},
          "execution_count": 38
        }
      ]
    },
    {
      "cell_type": "code",
      "metadata": {
        "colab": {
          "base_uri": "https://localhost:8080/"
        },
        "id": "n35huTG4yd3J",
        "outputId": "fb7a86ea-49c2-4321-bb0c-ab1ebd602f2c"
      },
      "source": [
        "# Tensor rank 3 de números randômicos\n",
        "t_rank3 = torch.randn(3,3,3)\n",
        "t_rank3"
      ],
      "execution_count": 39,
      "outputs": [
        {
          "output_type": "execute_result",
          "data": {
            "text/plain": [
              "tensor([[[-0.7369,  1.2275, -0.2970],\n",
              "         [-0.9862,  1.0173,  0.1315],\n",
              "         [-0.7281, -0.8491,  0.7172]],\n",
              "\n",
              "        [[-1.8209,  0.6891, -0.2093],\n",
              "         [-0.9855,  0.8557,  0.2567],\n",
              "         [ 0.8746,  2.2132, -2.2358]],\n",
              "\n",
              "        [[-0.8618,  1.6826,  0.7169],\n",
              "         [-0.2184,  0.5896,  1.4927],\n",
              "         [ 1.4975, -0.1194,  1.2863]]])"
            ]
          },
          "metadata": {},
          "execution_count": 39
        }
      ]
    },
    {
      "cell_type": "code",
      "metadata": {
        "colab": {
          "base_uri": "https://localhost:8080/"
        },
        "id": "7iZuspjHyd3J",
        "outputId": "3064d95c-9491-4eab-a25d-49fb78100d88"
      },
      "source": [
        "# Tensor rank 4 de números randômicos\n",
        "t_rank4 = torch.randn(3,3,3,3)\n",
        "t_rank4"
      ],
      "execution_count": 40,
      "outputs": [
        {
          "output_type": "execute_result",
          "data": {
            "text/plain": [
              "tensor([[[[ 0.0409,  1.4273, -1.2446],\n",
              "          [-1.4436, -0.6309, -0.6964],\n",
              "          [ 0.3294,  0.5297,  0.5927]],\n",
              "\n",
              "         [[-0.4260,  0.5399, -0.5498],\n",
              "          [ 0.7276, -0.7682, -1.6905],\n",
              "          [ 0.5061,  1.8656, -0.6536]],\n",
              "\n",
              "         [[ 0.8394, -1.6300, -1.1370],\n",
              "          [-0.9181,  0.5715, -0.9461],\n",
              "          [ 1.3912,  0.4927,  1.7216]]],\n",
              "\n",
              "\n",
              "        [[[ 0.2917, -0.8640,  0.1036],\n",
              "          [ 0.6501, -0.4367, -1.0049],\n",
              "          [-0.1990,  1.1118,  0.1736]],\n",
              "\n",
              "         [[-0.2945, -0.4568,  0.0256],\n",
              "          [ 1.7390, -0.1802, -0.3867],\n",
              "          [-1.2600,  0.1668,  0.9195]],\n",
              "\n",
              "         [[ 0.3597, -0.9395, -0.5538],\n",
              "          [ 0.2916, -0.2004,  0.7813],\n",
              "          [ 1.2084, -0.4104,  1.7643]]],\n",
              "\n",
              "\n",
              "        [[[ 0.2256, -0.4550,  2.4727],\n",
              "          [-0.5419,  0.1221,  0.4620],\n",
              "          [ 0.6017, -0.4129,  0.4793]],\n",
              "\n",
              "         [[ 0.1089, -0.1525,  0.3467],\n",
              "          [-0.0490, -1.7040,  0.0915],\n",
              "          [-1.2830, -0.4694, -2.2877]],\n",
              "\n",
              "         [[ 0.2510,  0.2184,  0.1651],\n",
              "          [-0.1617, -0.1222, -1.0752],\n",
              "          [ 0.4762, -0.9070,  1.4452]]]])"
            ]
          },
          "metadata": {},
          "execution_count": 40
        }
      ]
    },
    {
      "cell_type": "code",
      "metadata": {
        "id": "8nrHB51Cyd3J"
      },
      "source": [
        "# Multiplicação entre 2 tensores\n",
        "A = torch.tensor([[1, 2, 3], [4, 5, 6], [7, 8, 9]])\n",
        "B = torch.tensor([[9, 8, 7], [6, 5, 4], [3, 2, 1]])"
      ],
      "execution_count": 41,
      "outputs": []
    },
    {
      "cell_type": "code",
      "metadata": {
        "colab": {
          "base_uri": "https://localhost:8080/"
        },
        "id": "QVvNCMFoyd3J",
        "outputId": "758f24db-681b-41c6-e62f-e02d5ee84f8d"
      },
      "source": [
        "A.shape"
      ],
      "execution_count": 42,
      "outputs": [
        {
          "output_type": "execute_result",
          "data": {
            "text/plain": [
              "torch.Size([3, 3])"
            ]
          },
          "metadata": {},
          "execution_count": 42
        }
      ]
    },
    {
      "cell_type": "code",
      "metadata": {
        "colab": {
          "base_uri": "https://localhost:8080/"
        },
        "id": "H1ZZdhMWyd3K",
        "outputId": "432a02aa-a85b-4093-a597-6f2aa73668d8"
      },
      "source": [
        "B.shape"
      ],
      "execution_count": 43,
      "outputs": [
        {
          "output_type": "execute_result",
          "data": {
            "text/plain": [
              "torch.Size([3, 3])"
            ]
          },
          "metadata": {},
          "execution_count": 43
        }
      ]
    },
    {
      "cell_type": "code",
      "metadata": {
        "colab": {
          "base_uri": "https://localhost:8080/"
        },
        "id": "m35TDLiEyd3K",
        "outputId": "1c761277-2176-4d4f-bf1c-578306c98085"
      },
      "source": [
        "len(A.shape)"
      ],
      "execution_count": 44,
      "outputs": [
        {
          "output_type": "execute_result",
          "data": {
            "text/plain": [
              "2"
            ]
          },
          "metadata": {},
          "execution_count": 44
        }
      ]
    },
    {
      "cell_type": "code",
      "metadata": {
        "colab": {
          "base_uri": "https://localhost:8080/"
        },
        "id": "vPEBkh1hyd3K",
        "outputId": "c2d97874-64eb-4182-c44d-1f5dd4122531"
      },
      "source": [
        "len(B.shape)"
      ],
      "execution_count": 45,
      "outputs": [
        {
          "output_type": "execute_result",
          "data": {
            "text/plain": [
              "2"
            ]
          },
          "metadata": {},
          "execution_count": 45
        }
      ]
    },
    {
      "cell_type": "code",
      "metadata": {
        "colab": {
          "base_uri": "https://localhost:8080/"
        },
        "id": "7iTAX57Oyd3K",
        "outputId": "2f3c58a7-faa2-4cd0-bca7-05de477e35bc"
      },
      "source": [
        "A"
      ],
      "execution_count": 46,
      "outputs": [
        {
          "output_type": "execute_result",
          "data": {
            "text/plain": [
              "tensor([[1, 2, 3],\n",
              "        [4, 5, 6],\n",
              "        [7, 8, 9]])"
            ]
          },
          "metadata": {},
          "execution_count": 46
        }
      ]
    },
    {
      "cell_type": "code",
      "metadata": {
        "colab": {
          "base_uri": "https://localhost:8080/"
        },
        "id": "ABlhysMKyd3L",
        "outputId": "fffa6c76-9da5-49a0-ef57-f21b0d9e1fdc"
      },
      "source": [
        "B"
      ],
      "execution_count": 47,
      "outputs": [
        {
          "output_type": "execute_result",
          "data": {
            "text/plain": [
              "tensor([[9, 8, 7],\n",
              "        [6, 5, 4],\n",
              "        [3, 2, 1]])"
            ]
          },
          "metadata": {},
          "execution_count": 47
        }
      ]
    },
    {
      "cell_type": "code",
      "metadata": {
        "id": "iANT9cpjyd3L"
      },
      "source": [
        "resultado1 = A * B"
      ],
      "execution_count": 48,
      "outputs": []
    },
    {
      "cell_type": "code",
      "metadata": {
        "colab": {
          "base_uri": "https://localhost:8080/"
        },
        "id": "1niGjYX9yd3L",
        "outputId": "40c146ab-4b05-474f-d3dd-ef3322ce9a06"
      },
      "source": [
        "# Resultado\n",
        "print(resultado1)"
      ],
      "execution_count": 49,
      "outputs": [
        {
          "output_type": "stream",
          "name": "stdout",
          "text": [
            "tensor([[ 9, 16, 21],\n",
            "        [24, 25, 24],\n",
            "        [21, 16,  9]])\n"
          ]
        }
      ]
    },
    {
      "cell_type": "code",
      "metadata": {
        "id": "3pzo8rqkyd3L"
      },
      "source": [
        "resultado2 = torch.matmul(A, B)"
      ],
      "execution_count": 50,
      "outputs": []
    },
    {
      "cell_type": "code",
      "metadata": {
        "colab": {
          "base_uri": "https://localhost:8080/"
        },
        "id": "ECtJqKnJyd3L",
        "outputId": "d2c362af-d13c-4a11-db1c-f46720e6fc3e"
      },
      "source": [
        "# Resultado\n",
        "print(resultado2)"
      ],
      "execution_count": 51,
      "outputs": [
        {
          "output_type": "stream",
          "name": "stdout",
          "text": [
            "tensor([[ 30,  24,  18],\n",
            "        [ 84,  69,  54],\n",
            "        [138, 114,  90]])\n"
          ]
        }
      ]
    },
    {
      "cell_type": "code",
      "metadata": {
        "id": "OGvnnpk4yd3M"
      },
      "source": [
        "resultado3 = torch.sum(A * B)"
      ],
      "execution_count": 52,
      "outputs": []
    },
    {
      "cell_type": "code",
      "metadata": {
        "colab": {
          "base_uri": "https://localhost:8080/"
        },
        "id": "WEAkHYvIyd3M",
        "outputId": "6300504e-0872-4e15-eaba-5a4a4532a529"
      },
      "source": [
        "# Resultado\n",
        "print(resultado3)"
      ],
      "execution_count": 53,
      "outputs": [
        {
          "output_type": "stream",
          "name": "stdout",
          "text": [
            "tensor(165)\n"
          ]
        }
      ]
    },
    {
      "cell_type": "markdown",
      "metadata": {
        "id": "gjBSOXs-yd3M"
      },
      "source": [
        "![title](imagens/mat-mul.gif)"
      ]
    },
    {
      "cell_type": "markdown",
      "metadata": {
        "id": "hU993kh1yd3M"
      },
      "source": [
        "Para multiplicação de matrizes, fazemos assim em PyTorch:"
      ]
    },
    {
      "cell_type": "code",
      "metadata": {
        "id": "laecxXUSyd3M"
      },
      "source": [
        "AB1 = A.mm(B)\n",
        "# ou\n",
        "AB2 = torch.mm(A, B)\n",
        "# ou\n",
        "AB3 = torch.matmul(A, B)\n",
        "# Ou assim (Python 3.5+)\n",
        "AB4 = A @ B "
      ],
      "execution_count": 54,
      "outputs": []
    },
    {
      "cell_type": "code",
      "metadata": {
        "colab": {
          "base_uri": "https://localhost:8080/"
        },
        "id": "QPX6cYIeyd3N",
        "outputId": "ba38782a-3f68-4011-e6d0-128f245116af"
      },
      "source": [
        "print(AB1)\n",
        "print(AB2)\n",
        "print(AB3)\n",
        "print(AB4)"
      ],
      "execution_count": 55,
      "outputs": [
        {
          "output_type": "stream",
          "name": "stdout",
          "text": [
            "tensor([[ 30,  24,  18],\n",
            "        [ 84,  69,  54],\n",
            "        [138, 114,  90]])\n",
            "tensor([[ 30,  24,  18],\n",
            "        [ 84,  69,  54],\n",
            "        [138, 114,  90]])\n",
            "tensor([[ 30,  24,  18],\n",
            "        [ 84,  69,  54],\n",
            "        [138, 114,  90]])\n",
            "tensor([[ 30,  24,  18],\n",
            "        [ 84,  69,  54],\n",
            "        [138, 114,  90]])\n"
          ]
        }
      ]
    },
    {
      "cell_type": "code",
      "metadata": {
        "colab": {
          "base_uri": "https://localhost:8080/"
        },
        "id": "b1cgDQGFyd3N",
        "outputId": "54311911-5f03-4f71-afc8-d1d460121e9b"
      },
      "source": [
        "# Multiplicação de matrizes\n",
        "A @ B"
      ],
      "execution_count": 56,
      "outputs": [
        {
          "output_type": "execute_result",
          "data": {
            "text/plain": [
              "tensor([[ 30,  24,  18],\n",
              "        [ 84,  69,  54],\n",
              "        [138, 114,  90]])"
            ]
          },
          "metadata": {},
          "execution_count": 56
        }
      ]
    },
    {
      "cell_type": "markdown",
      "metadata": {
        "id": "GOcLbHCYyd3N"
      },
      "source": [
        "Essa notação realiza multiplicação element-wise:"
      ]
    },
    {
      "cell_type": "code",
      "metadata": {
        "colab": {
          "base_uri": "https://localhost:8080/"
        },
        "id": "izBmwn6Cyd3N",
        "outputId": "35eaa7d5-a398-43d0-9c8a-f2ee79dae4e7"
      },
      "source": [
        "# Operação element-wise\n",
        "A * B"
      ],
      "execution_count": 57,
      "outputs": [
        {
          "output_type": "execute_result",
          "data": {
            "text/plain": [
              "tensor([[ 9, 16, 21],\n",
              "        [24, 25, 24],\n",
              "        [21, 16,  9]])"
            ]
          },
          "metadata": {},
          "execution_count": 57
        }
      ]
    },
    {
      "cell_type": "code",
      "metadata": {
        "id": "M9PhXxKYyd3O"
      },
      "source": [
        "# Usando seed para iniciar 2 tensores com valores randômicos\n",
        "torch.manual_seed(42)\n",
        "a = torch.randn(3,3)\n",
        "b = torch.randn(3,3)"
      ],
      "execution_count": 58,
      "outputs": []
    },
    {
      "cell_type": "code",
      "metadata": {
        "colab": {
          "base_uri": "https://localhost:8080/"
        },
        "id": "0nKlTJWtyd3O",
        "outputId": "c70549df-2aac-4224-d522-03bb07b0e67c"
      },
      "source": [
        "# Adição de matrizes\n",
        "print(torch.add(a, b))"
      ],
      "execution_count": 59,
      "outputs": [
        {
          "output_type": "stream",
          "name": "stdout",
          "text": [
            "tensor([[ 0.6040,  0.6637,  1.0438],\n",
            "        [ 1.3406, -2.8127, -1.1753],\n",
            "        [ 3.1662,  0.6841,  1.2788]])\n"
          ]
        }
      ]
    },
    {
      "cell_type": "code",
      "metadata": {
        "colab": {
          "base_uri": "https://localhost:8080/"
        },
        "id": "5E4FVyNEyd3P",
        "outputId": "88607337-df8e-499a-891a-4c57b678ace9"
      },
      "source": [
        "# Subtração de matrizes\n",
        "print(torch.sub(a, b))"
      ],
      "execution_count": 60,
      "outputs": [
        {
          "output_type": "stream",
          "name": "stdout",
          "text": [
            "tensor([[ 0.0693, -0.4061, -0.5749],\n",
            "        [-0.8800,  0.5669,  0.8026],\n",
            "        [ 1.2502, -1.9601, -0.3555]])\n"
          ]
        }
      ]
    },
    {
      "cell_type": "code",
      "metadata": {
        "colab": {
          "base_uri": "https://localhost:8080/"
        },
        "id": "JESPCTYWyd3Q",
        "outputId": "48ed2072-07c5-4151-d294-4d71abc7c360"
      },
      "source": [
        "# Multiplicação de matrizes\n",
        "print(torch.mm(a, b))"
      ],
      "execution_count": 61,
      "outputs": [
        {
          "output_type": "stream",
          "name": "stdout",
          "text": [
            "tensor([[ 0.4576,  0.2724,  0.3367],\n",
            "        [-1.3636,  1.7743,  1.1446],\n",
            "        [ 0.3243,  2.8696,  2.7954]])\n"
          ]
        }
      ]
    },
    {
      "cell_type": "code",
      "metadata": {
        "colab": {
          "base_uri": "https://localhost:8080/"
        },
        "id": "LhY_9NUnyd3R",
        "outputId": "3f967718-998a-4a18-a5ff-897f336231e6"
      },
      "source": [
        "# Divisão de matrizes\n",
        "print(torch.div(a, b))"
      ],
      "execution_count": 62,
      "outputs": [
        {
          "output_type": "stream",
          "name": "stdout",
          "text": [
            "tensor([[ 1.2594,  0.2408,  0.2897],\n",
            "        [ 0.2075,  0.6645,  0.1884],\n",
            "        [ 2.3051, -0.4826,  0.5649]])\n"
          ]
        }
      ]
    },
    {
      "cell_type": "code",
      "metadata": {
        "colab": {
          "base_uri": "https://localhost:8080/"
        },
        "id": "xczriERDyd3S",
        "outputId": "3a0698d4-1450-414a-b230-435ee50d8278"
      },
      "source": [
        "# Matriz Original\n",
        "print(a, '\\n')\n",
        "\n",
        "# Matriz Transposta\n",
        "torch.t(a)"
      ],
      "execution_count": 63,
      "outputs": [
        {
          "output_type": "stream",
          "name": "stdout",
          "text": [
            "tensor([[ 0.3367,  0.1288,  0.2345],\n",
            "        [ 0.2303, -1.1229, -0.1863],\n",
            "        [ 2.2082, -0.6380,  0.4617]]) \n",
            "\n"
          ]
        },
        {
          "output_type": "execute_result",
          "data": {
            "text/plain": [
              "tensor([[ 0.3367,  0.2303,  2.2082],\n",
              "        [ 0.1288, -1.1229, -0.6380],\n",
              "        [ 0.2345, -0.1863,  0.4617]])"
            ]
          },
          "metadata": {},
          "execution_count": 63
        }
      ]
    },
    {
      "cell_type": "markdown",
      "metadata": {
        "collapsed": true,
        "id": "JIuyJoHxyd3T"
      },
      "source": [
        "# Fim"
      ]
    }
  ]
}